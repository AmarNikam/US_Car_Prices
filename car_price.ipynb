{
 "cells": [
  {
   "cell_type": "code",
   "execution_count": 988,
   "metadata": {},
   "outputs": [],
   "source": [
    "import pandas as pd\n",
    "import numpy as np\n",
    "import matplotlib.pyplot as plt\n",
    "import seaborn as sns\n",
    "from sklearn.model_selection import train_test_split\n",
    "from sklearn.linear_model import LinearRegression"
   ]
  },
  {
   "cell_type": "code",
   "execution_count": 989,
   "metadata": {},
   "outputs": [
    {
     "data": {
      "text/html": [
       "<div><div id=75c1237f-236f-4eb6-9487-8ed581bcf2d8 style=\"display:none; background-color:#9D6CFF; color:white; width:200px; height:30px; padding-left:5px; border-radius:4px; flex-direction:row; justify-content:space-around; align-items:center;\" onmouseover=\"this.style.backgroundColor='#BA9BF8'\" onmouseout=\"this.style.backgroundColor='#9D6CFF'\" onclick=\"window.commands?.execute('create-mitosheet-from-dataframe-output');\">See Full Dataframe in Mito</div> <script> if (window.commands?.hasCommand('create-mitosheet-from-dataframe-output')) document.getElementById('75c1237f-236f-4eb6-9487-8ed581bcf2d8').style.display = 'flex' </script> <table border=\"1\" class=\"dataframe\">\n",
       "  <thead>\n",
       "    <tr style=\"text-align: right;\">\n",
       "      <th></th>\n",
       "      <th>make</th>\n",
       "      <th>model</th>\n",
       "      <th>year</th>\n",
       "      <th>mileage</th>\n",
       "      <th>price</th>\n",
       "      <th>color</th>\n",
       "      <th>state</th>\n",
       "      <th>date</th>\n",
       "    </tr>\n",
       "  </thead>\n",
       "  <tbody>\n",
       "    <tr>\n",
       "      <th>0</th>\n",
       "      <td>Chevrolet</td>\n",
       "      <td>Cruze</td>\n",
       "      <td>2011</td>\n",
       "      <td>99157</td>\n",
       "      <td>37488</td>\n",
       "      <td>white</td>\n",
       "      <td>TX</td>\n",
       "      <td>2023-09-26 23:02:01.647970</td>\n",
       "    </tr>\n",
       "    <tr>\n",
       "      <th>1</th>\n",
       "      <td>Toyota</td>\n",
       "      <td>Cruze</td>\n",
       "      <td>2017</td>\n",
       "      <td>19882</td>\n",
       "      <td>34176</td>\n",
       "      <td>red</td>\n",
       "      <td>IL</td>\n",
       "      <td>2023-08-08 23:02:01.648413</td>\n",
       "    </tr>\n",
       "    <tr>\n",
       "      <th>2</th>\n",
       "      <td>Chevrolet</td>\n",
       "      <td>Altima</td>\n",
       "      <td>2011</td>\n",
       "      <td>77718</td>\n",
       "      <td>40297</td>\n",
       "      <td>blue</td>\n",
       "      <td>CA</td>\n",
       "      <td>2023-02-25 23:02:01.648422</td>\n",
       "    </tr>\n",
       "    <tr>\n",
       "      <th>3</th>\n",
       "      <td>Nissan</td>\n",
       "      <td>Fusion</td>\n",
       "      <td>2012</td>\n",
       "      <td>83613</td>\n",
       "      <td>43492</td>\n",
       "      <td>silver</td>\n",
       "      <td>TX</td>\n",
       "      <td>2023-04-25 23:02:01.648425</td>\n",
       "    </tr>\n",
       "    <tr>\n",
       "      <th>4</th>\n",
       "      <td>Ford</td>\n",
       "      <td>Cruze</td>\n",
       "      <td>2016</td>\n",
       "      <td>95349</td>\n",
       "      <td>26655</td>\n",
       "      <td>red</td>\n",
       "      <td>NY</td>\n",
       "      <td>2023-12-14 23:02:01.648426</td>\n",
       "    </tr>\n",
       "    <tr>\n",
       "      <th>...</th>\n",
       "      <td>...</td>\n",
       "      <td>...</td>\n",
       "      <td>...</td>\n",
       "      <td>...</td>\n",
       "      <td>...</td>\n",
       "      <td>...</td>\n",
       "      <td>...</td>\n",
       "      <td>...</td>\n",
       "    </tr>\n",
       "    <tr>\n",
       "      <th>9995</th>\n",
       "      <td>Honda</td>\n",
       "      <td>Altima</td>\n",
       "      <td>2017</td>\n",
       "      <td>25154</td>\n",
       "      <td>43139</td>\n",
       "      <td>red</td>\n",
       "      <td>FL</td>\n",
       "      <td>2023-10-07 23:02:01.650165</td>\n",
       "    </tr>\n",
       "    <tr>\n",
       "      <th>9996</th>\n",
       "      <td>Chevrolet</td>\n",
       "      <td>Accord</td>\n",
       "      <td>2017</td>\n",
       "      <td>68264</td>\n",
       "      <td>15632</td>\n",
       "      <td>white</td>\n",
       "      <td>TX</td>\n",
       "      <td>2024-01-05 23:02:01.650166</td>\n",
       "    </tr>\n",
       "    <tr>\n",
       "      <th>9997</th>\n",
       "      <td>Nissan</td>\n",
       "      <td>Cruze</td>\n",
       "      <td>2016</td>\n",
       "      <td>17417</td>\n",
       "      <td>30832</td>\n",
       "      <td>silver</td>\n",
       "      <td>IL</td>\n",
       "      <td>2023-03-29 23:02:01.650168</td>\n",
       "    </tr>\n",
       "    <tr>\n",
       "      <th>9998</th>\n",
       "      <td>Honda</td>\n",
       "      <td>Accord</td>\n",
       "      <td>2011</td>\n",
       "      <td>68878</td>\n",
       "      <td>10801</td>\n",
       "      <td>blue</td>\n",
       "      <td>TX</td>\n",
       "      <td>2023-05-02 23:02:01.650170</td>\n",
       "    </tr>\n",
       "    <tr>\n",
       "      <th>9999</th>\n",
       "      <td>Chevrolet</td>\n",
       "      <td>Cruze</td>\n",
       "      <td>2010</td>\n",
       "      <td>99313</td>\n",
       "      <td>31827</td>\n",
       "      <td>black</td>\n",
       "      <td>CA</td>\n",
       "      <td>2023-08-13 23:02:01.650171</td>\n",
       "    </tr>\n",
       "  </tbody>\n",
       "</table></div>"
      ],
      "text/plain": [
       "           make   model  year  mileage  price   color state  \\\n",
       "0     Chevrolet   Cruze  2011    99157  37488   white    TX   \n",
       "1        Toyota   Cruze  2017    19882  34176     red    IL   \n",
       "2     Chevrolet  Altima  2011    77718  40297    blue    CA   \n",
       "3        Nissan  Fusion  2012    83613  43492  silver    TX   \n",
       "4          Ford   Cruze  2016    95349  26655     red    NY   \n",
       "...         ...     ...   ...      ...    ...     ...   ...   \n",
       "9995      Honda  Altima  2017    25154  43139     red    FL   \n",
       "9996  Chevrolet  Accord  2017    68264  15632   white    TX   \n",
       "9997     Nissan   Cruze  2016    17417  30832  silver    IL   \n",
       "9998      Honda  Accord  2011    68878  10801    blue    TX   \n",
       "9999  Chevrolet   Cruze  2010    99313  31827   black    CA   \n",
       "\n",
       "                            date  \n",
       "0     2023-09-26 23:02:01.647970  \n",
       "1     2023-08-08 23:02:01.648413  \n",
       "2     2023-02-25 23:02:01.648422  \n",
       "3     2023-04-25 23:02:01.648425  \n",
       "4     2023-12-14 23:02:01.648426  \n",
       "...                          ...  \n",
       "9995  2023-10-07 23:02:01.650165  \n",
       "9996  2024-01-05 23:02:01.650166  \n",
       "9997  2023-03-29 23:02:01.650168  \n",
       "9998  2023-05-02 23:02:01.650170  \n",
       "9999  2023-08-13 23:02:01.650171  \n",
       "\n",
       "[10000 rows x 8 columns]"
      ]
     },
     "execution_count": 989,
     "metadata": {},
     "output_type": "execute_result"
    }
   ],
   "source": [
    "data = pd.read_csv(\"car_prices.csv\")\n",
    "data"
   ]
  },
  {
   "cell_type": "code",
   "execution_count": 990,
   "metadata": {},
   "outputs": [
    {
     "data": {
      "text/plain": [
       "(10000, 8)"
      ]
     },
     "execution_count": 990,
     "metadata": {},
     "output_type": "execute_result"
    }
   ],
   "source": [
    "data.shape"
   ]
  },
  {
   "cell_type": "code",
   "execution_count": 991,
   "metadata": {},
   "outputs": [
    {
     "name": "stdout",
     "output_type": "stream",
     "text": [
      "<class 'pandas.core.frame.DataFrame'>\n",
      "RangeIndex: 10000 entries, 0 to 9999\n",
      "Data columns (total 8 columns):\n",
      " #   Column   Non-Null Count  Dtype \n",
      "---  ------   --------------  ----- \n",
      " 0   make     10000 non-null  object\n",
      " 1   model    10000 non-null  object\n",
      " 2   year     10000 non-null  int64 \n",
      " 3   mileage  10000 non-null  int64 \n",
      " 4   price    10000 non-null  int64 \n",
      " 5   color    10000 non-null  object\n",
      " 6   state    10000 non-null  object\n",
      " 7   date     10000 non-null  object\n",
      "dtypes: int64(3), object(5)\n",
      "memory usage: 625.1+ KB\n"
     ]
    }
   ],
   "source": [
    "data.info()"
   ]
  },
  {
   "cell_type": "code",
   "execution_count": 992,
   "metadata": {},
   "outputs": [
    {
     "data": {
      "text/plain": [
       "silver    2190\n",
       "red       2050\n",
       "white     1940\n",
       "blue      1920\n",
       "black     1900\n",
       "Name: color, dtype: int64"
      ]
     },
     "execution_count": 992,
     "metadata": {},
     "output_type": "execute_result"
    }
   ],
   "source": [
    "data[\"color\"].value_counts()"
   ]
  },
  {
   "cell_type": "code",
   "execution_count": 993,
   "metadata": {},
   "outputs": [
    {
     "data": {
      "text/plain": [
       "silver    2190\n",
       "red       2050\n",
       "white     1940\n",
       "blue      1920\n",
       "black     1900\n",
       "Name: color, dtype: int64"
      ]
     },
     "execution_count": 993,
     "metadata": {},
     "output_type": "execute_result"
    }
   ],
   "source": [
    "car_color = data[\"color\"].value_counts()\n",
    "car_color"
   ]
  },
  {
   "cell_type": "code",
   "execution_count": 994,
   "metadata": {},
   "outputs": [
    {
     "data": {
      "image/png": "[encoded data removed]",
      "text/plain": [
       "<Figure size 1080x360 with 1 Axes>"
      ]
     },
     "metadata": {
      "needs_background": "light"
     },
     "output_type": "display_data"
    }
   ],
   "source": [
    "color = sns.color_palette(\"inferno\")\n",
    "car_color1 = car_color.plot(kind=\"bar\", x = \"color\", figsize=(15, 5), color = color)\n",
    "plt.xlabel(\"Car_color\")\n",
    "plt.ylabel(\"No. of cars\")\n",
    "\n",
    "for i in car_color1.patches:\n",
    "    car_color1.annotate(f'\\n{i.get_height()}', (i.get_x()+0.2, i.get_height()), ha = \"center\", va = \"top\", size = 18, color = \"white\")\n"
   ]
  },
  {
   "cell_type": "code",
   "execution_count": 995,
   "metadata": {},
   "outputs": [
    {
     "data": {
      "text/plain": [
       "CA    2140\n",
       "TX    2080\n",
       "FL    2030\n",
       "NY    2000\n",
       "IL    1750\n",
       "Name: state, dtype: int64"
      ]
     },
     "execution_count": 995,
     "metadata": {},
     "output_type": "execute_result"
    }
   ],
   "source": [
    "data[\"state\"].value_counts()"
   ]
  },
  {
   "cell_type": "code",
   "execution_count": 996,
   "metadata": {},
   "outputs": [
    {
     "data": {
      "text/plain": [
       "CA    2140\n",
       "TX    2080\n",
       "FL    2030\n",
       "NY    2000\n",
       "IL    1750\n",
       "Name: state, dtype: int64"
      ]
     },
     "execution_count": 996,
     "metadata": {},
     "output_type": "execute_result"
    }
   ],
   "source": [
    "state_count = data[\"state\"].value_counts()\n",
    "state_count"
   ]
  },
  {
   "cell_type": "code",
   "execution_count": 997,
   "metadata": {},
   "outputs": [
    {
     "data": {
      "image/png": "[encoded data removed]",
      "text/plain": [
       "<Figure size 1080x360 with 1 Axes>"
      ]
     },
     "metadata": {
      "needs_background": "light"
     },
     "output_type": "display_data"
    }
   ],
   "source": [
    "color = sns.color_palette(\"inferno\")\n",
    "state_col = state_count.plot(kind = \"bar\", x = \"state\", figsize=(15, 5), color = color)\n",
    "plt.xlabel(\"state_name\")\n",
    "plt.ylabel(\"No. of car_cnt state wise\")\n",
    "\n",
    "for i in state_col.patches:\n",
    "    state_col.annotate(f'\\n{i.get_height()}', (i.get_x()+0.2, i.get_height()), ha = \"center\", va = \"top\", size = 20, color = \"white\")"
   ]
  },
  {
   "cell_type": "code",
   "execution_count": 998,
   "metadata": {},
   "outputs": [
    {
     "data": {
      "text/html": [
       "<div><div id=e3596707-f66c-4afc-906c-bdc5db787e09 style=\"display:none; background-color:#9D6CFF; color:white; width:200px; height:30px; padding-left:5px; border-radius:4px; flex-direction:row; justify-content:space-around; align-items:center;\" onmouseover=\"this.style.backgroundColor='#BA9BF8'\" onmouseout=\"this.style.backgroundColor='#9D6CFF'\" onclick=\"window.commands?.execute('create-mitosheet-from-dataframe-output');\">See Full Dataframe in Mito</div> <script> if (window.commands?.hasCommand('create-mitosheet-from-dataframe-output')) document.getElementById('e3596707-f66c-4afc-906c-bdc5db787e09').style.display = 'flex' </script> <table border=\"1\" class=\"dataframe\">\n",
       "  <thead>\n",
       "    <tr style=\"text-align: right;\">\n",
       "      <th></th>\n",
       "      <th>make</th>\n",
       "      <th>model</th>\n",
       "      <th>year</th>\n",
       "      <th>mileage</th>\n",
       "      <th>price</th>\n",
       "      <th>color</th>\n",
       "      <th>state</th>\n",
       "      <th>date</th>\n",
       "    </tr>\n",
       "  </thead>\n",
       "  <tbody>\n",
       "    <tr>\n",
       "      <th>0</th>\n",
       "      <td>Chevrolet</td>\n",
       "      <td>Cruze</td>\n",
       "      <td>2011</td>\n",
       "      <td>99157</td>\n",
       "      <td>37488</td>\n",
       "      <td>white</td>\n",
       "      <td>TX</td>\n",
       "      <td>2023-09-26 23:02:01.647970</td>\n",
       "    </tr>\n",
       "    <tr>\n",
       "      <th>1</th>\n",
       "      <td>Toyota</td>\n",
       "      <td>Cruze</td>\n",
       "      <td>2017</td>\n",
       "      <td>19882</td>\n",
       "      <td>34176</td>\n",
       "      <td>red</td>\n",
       "      <td>IL</td>\n",
       "      <td>2023-08-08 23:02:01.648413</td>\n",
       "    </tr>\n",
       "    <tr>\n",
       "      <th>2</th>\n",
       "      <td>Chevrolet</td>\n",
       "      <td>Altima</td>\n",
       "      <td>2011</td>\n",
       "      <td>77718</td>\n",
       "      <td>40297</td>\n",
       "      <td>blue</td>\n",
       "      <td>CA</td>\n",
       "      <td>2023-02-25 23:02:01.648422</td>\n",
       "    </tr>\n",
       "    <tr>\n",
       "      <th>3</th>\n",
       "      <td>Nissan</td>\n",
       "      <td>Fusion</td>\n",
       "      <td>2012</td>\n",
       "      <td>83613</td>\n",
       "      <td>43492</td>\n",
       "      <td>silver</td>\n",
       "      <td>TX</td>\n",
       "      <td>2023-04-25 23:02:01.648425</td>\n",
       "    </tr>\n",
       "    <tr>\n",
       "      <th>4</th>\n",
       "      <td>Ford</td>\n",
       "      <td>Cruze</td>\n",
       "      <td>2016</td>\n",
       "      <td>95349</td>\n",
       "      <td>26655</td>\n",
       "      <td>red</td>\n",
       "      <td>NY</td>\n",
       "      <td>2023-12-14 23:02:01.648426</td>\n",
       "    </tr>\n",
       "  </tbody>\n",
       "</table></div>"
      ],
      "text/plain": [
       "        make   model  year  mileage  price   color state  \\\n",
       "0  Chevrolet   Cruze  2011    99157  37488   white    TX   \n",
       "1     Toyota   Cruze  2017    19882  34176     red    IL   \n",
       "2  Chevrolet  Altima  2011    77718  40297    blue    CA   \n",
       "3     Nissan  Fusion  2012    83613  43492  silver    TX   \n",
       "4       Ford   Cruze  2016    95349  26655     red    NY   \n",
       "\n",
       "                         date  \n",
       "0  2023-09-26 23:02:01.647970  \n",
       "1  2023-08-08 23:02:01.648413  \n",
       "2  2023-02-25 23:02:01.648422  \n",
       "3  2023-04-25 23:02:01.648425  \n",
       "4  2023-12-14 23:02:01.648426  "
      ]
     },
     "execution_count": 998,
     "metadata": {},
     "output_type": "execute_result"
    }
   ],
   "source": [
    "data.head()"
   ]
  },
  {
   "cell_type": "code",
   "execution_count": 999,
   "metadata": {},
   "outputs": [],
   "source": [
    "data[\"date\"] = pd.to_datetime(data[\"date\"])"
   ]
  },
  {
   "cell_type": "code",
   "execution_count": 1000,
   "metadata": {},
   "outputs": [
    {
     "name": "stdout",
     "output_type": "stream",
     "text": [
      "<class 'pandas.core.frame.DataFrame'>\n",
      "RangeIndex: 10000 entries, 0 to 9999\n",
      "Data columns (total 8 columns):\n",
      " #   Column   Non-Null Count  Dtype         \n",
      "---  ------   --------------  -----         \n",
      " 0   make     10000 non-null  object        \n",
      " 1   model    10000 non-null  object        \n",
      " 2   year     10000 non-null  int64         \n",
      " 3   mileage  10000 non-null  int64         \n",
      " 4   price    10000 non-null  int64         \n",
      " 5   color    10000 non-null  object        \n",
      " 6   state    10000 non-null  object        \n",
      " 7   date     10000 non-null  datetime64[ns]\n",
      "dtypes: datetime64[ns](1), int64(3), object(4)\n",
      "memory usage: 625.1+ KB\n"
     ]
    }
   ],
   "source": [
    "data.info()"
   ]
  },
  {
   "cell_type": "code",
   "execution_count": 1001,
   "metadata": {},
   "outputs": [
    {
     "data": {
      "text/html": [
       "<div><div id=6feda246-fab1-4e8f-9bdd-62ad98ec8e81 style=\"display:none; background-color:#9D6CFF; color:white; width:200px; height:30px; padding-left:5px; border-radius:4px; flex-direction:row; justify-content:space-around; align-items:center;\" onmouseover=\"this.style.backgroundColor='#BA9BF8'\" onmouseout=\"this.style.backgroundColor='#9D6CFF'\" onclick=\"window.commands?.execute('create-mitosheet-from-dataframe-output');\">See Full Dataframe in Mito</div> <script> if (window.commands?.hasCommand('create-mitosheet-from-dataframe-output')) document.getElementById('6feda246-fab1-4e8f-9bdd-62ad98ec8e81').style.display = 'flex' </script> <table border=\"1\" class=\"dataframe\">\n",
       "  <thead>\n",
       "    <tr style=\"text-align: right;\">\n",
       "      <th></th>\n",
       "      <th>make</th>\n",
       "      <th>model</th>\n",
       "      <th>year</th>\n",
       "      <th>mileage</th>\n",
       "      <th>price</th>\n",
       "      <th>color</th>\n",
       "      <th>state</th>\n",
       "      <th>date</th>\n",
       "    </tr>\n",
       "  </thead>\n",
       "  <tbody>\n",
       "    <tr>\n",
       "      <th>0</th>\n",
       "      <td>Chevrolet</td>\n",
       "      <td>Cruze</td>\n",
       "      <td>2011</td>\n",
       "      <td>99157</td>\n",
       "      <td>37488</td>\n",
       "      <td>white</td>\n",
       "      <td>TX</td>\n",
       "      <td>2023-09-26 23:02:01.647970</td>\n",
       "    </tr>\n",
       "  </tbody>\n",
       "</table></div>"
      ],
      "text/plain": [
       "        make  model  year  mileage  price  color state  \\\n",
       "0  Chevrolet  Cruze  2011    99157  37488  white    TX   \n",
       "\n",
       "                        date  \n",
       "0 2023-09-26 23:02:01.647970  "
      ]
     },
     "execution_count": 1001,
     "metadata": {},
     "output_type": "execute_result"
    }
   ],
   "source": [
    "data.head(1)"
   ]
  },
  {
   "cell_type": "code",
   "execution_count": 1002,
   "metadata": {},
   "outputs": [],
   "source": [
    "data[\"date\"] = data[\"date\"].dt.date"
   ]
  },
  {
   "cell_type": "code",
   "execution_count": 1003,
   "metadata": {},
   "outputs": [
    {
     "data": {
      "text/html": [
       "<div><div id=03117f21-c7c8-48c5-b71c-ed000fe6efc5 style=\"display:none; background-color:#9D6CFF; color:white; width:200px; height:30px; padding-left:5px; border-radius:4px; flex-direction:row; justify-content:space-around; align-items:center;\" onmouseover=\"this.style.backgroundColor='#BA9BF8'\" onmouseout=\"this.style.backgroundColor='#9D6CFF'\" onclick=\"window.commands?.execute('create-mitosheet-from-dataframe-output');\">See Full Dataframe in Mito</div> <script> if (window.commands?.hasCommand('create-mitosheet-from-dataframe-output')) document.getElementById('03117f21-c7c8-48c5-b71c-ed000fe6efc5').style.display = 'flex' </script> <table border=\"1\" class=\"dataframe\">\n",
       "  <thead>\n",
       "    <tr style=\"text-align: right;\">\n",
       "      <th></th>\n",
       "      <th>make</th>\n",
       "      <th>model</th>\n",
       "      <th>year</th>\n",
       "      <th>mileage</th>\n",
       "      <th>price</th>\n",
       "      <th>color</th>\n",
       "      <th>state</th>\n",
       "      <th>date</th>\n",
       "    </tr>\n",
       "  </thead>\n",
       "  <tbody>\n",
       "    <tr>\n",
       "      <th>0</th>\n",
       "      <td>Chevrolet</td>\n",
       "      <td>Cruze</td>\n",
       "      <td>2011</td>\n",
       "      <td>99157</td>\n",
       "      <td>37488</td>\n",
       "      <td>white</td>\n",
       "      <td>TX</td>\n",
       "      <td>2023-09-26</td>\n",
       "    </tr>\n",
       "    <tr>\n",
       "      <th>1</th>\n",
       "      <td>Toyota</td>\n",
       "      <td>Cruze</td>\n",
       "      <td>2017</td>\n",
       "      <td>19882</td>\n",
       "      <td>34176</td>\n",
       "      <td>red</td>\n",
       "      <td>IL</td>\n",
       "      <td>2023-08-08</td>\n",
       "    </tr>\n",
       "    <tr>\n",
       "      <th>2</th>\n",
       "      <td>Chevrolet</td>\n",
       "      <td>Altima</td>\n",
       "      <td>2011</td>\n",
       "      <td>77718</td>\n",
       "      <td>40297</td>\n",
       "      <td>blue</td>\n",
       "      <td>CA</td>\n",
       "      <td>2023-02-25</td>\n",
       "    </tr>\n",
       "    <tr>\n",
       "      <th>3</th>\n",
       "      <td>Nissan</td>\n",
       "      <td>Fusion</td>\n",
       "      <td>2012</td>\n",
       "      <td>83613</td>\n",
       "      <td>43492</td>\n",
       "      <td>silver</td>\n",
       "      <td>TX</td>\n",
       "      <td>2023-04-25</td>\n",
       "    </tr>\n",
       "    <tr>\n",
       "      <th>4</th>\n",
       "      <td>Ford</td>\n",
       "      <td>Cruze</td>\n",
       "      <td>2016</td>\n",
       "      <td>95349</td>\n",
       "      <td>26655</td>\n",
       "      <td>red</td>\n",
       "      <td>NY</td>\n",
       "      <td>2023-12-14</td>\n",
       "    </tr>\n",
       "  </tbody>\n",
       "</table></div>"
      ],
      "text/plain": [
       "        make   model  year  mileage  price   color state        date\n",
       "0  Chevrolet   Cruze  2011    99157  37488   white    TX  2023-09-26\n",
       "1     Toyota   Cruze  2017    19882  34176     red    IL  2023-08-08\n",
       "2  Chevrolet  Altima  2011    77718  40297    blue    CA  2023-02-25\n",
       "3     Nissan  Fusion  2012    83613  43492  silver    TX  2023-04-25\n",
       "4       Ford   Cruze  2016    95349  26655     red    NY  2023-12-14"
      ]
     },
     "execution_count": 1003,
     "metadata": {},
     "output_type": "execute_result"
    }
   ],
   "source": [
    "data.head()"
   ]
  },
  {
   "cell_type": "code",
   "execution_count": 1004,
   "metadata": {},
   "outputs": [
    {
     "name": "stdout",
     "output_type": "stream",
     "text": [
      "<class 'pandas.core.frame.DataFrame'>\n",
      "RangeIndex: 10000 entries, 0 to 9999\n",
      "Data columns (total 8 columns):\n",
      " #   Column   Non-Null Count  Dtype \n",
      "---  ------   --------------  ----- \n",
      " 0   make     10000 non-null  object\n",
      " 1   model    10000 non-null  object\n",
      " 2   year     10000 non-null  int64 \n",
      " 3   mileage  10000 non-null  int64 \n",
      " 4   price    10000 non-null  int64 \n",
      " 5   color    10000 non-null  object\n",
      " 6   state    10000 non-null  object\n",
      " 7   date     10000 non-null  object\n",
      "dtypes: int64(3), object(5)\n",
      "memory usage: 625.1+ KB\n"
     ]
    }
   ],
   "source": [
    "data.info()"
   ]
  },
  {
   "cell_type": "code",
   "execution_count": 1005,
   "metadata": {},
   "outputs": [],
   "source": [
    "data[\"date\"] = pd.to_datetime(data[\"date\"])"
   ]
  },
  {
   "cell_type": "code",
   "execution_count": 1006,
   "metadata": {},
   "outputs": [],
   "source": [
    "data[\"day\"] = data[\"date\"].dt.day"
   ]
  },
  {
   "cell_type": "code",
   "execution_count": 1007,
   "metadata": {},
   "outputs": [],
   "source": [
    "data[\"month\"] = data[\"date\"].dt.month"
   ]
  },
  {
   "cell_type": "code",
   "execution_count": 1008,
   "metadata": {},
   "outputs": [],
   "source": [
    "data[\"year\"] = data[\"date\"].dt.year  #Already year column is pressent"
   ]
  },
  {
   "cell_type": "code",
   "execution_count": 1009,
   "metadata": {},
   "outputs": [
    {
     "data": {
      "text/html": [
       "<div><div id=3e789582-4e41-49b7-8266-0e1a63f1c0a3 style=\"display:none; background-color:#9D6CFF; color:white; width:200px; height:30px; padding-left:5px; border-radius:4px; flex-direction:row; justify-content:space-around; align-items:center;\" onmouseover=\"this.style.backgroundColor='#BA9BF8'\" onmouseout=\"this.style.backgroundColor='#9D6CFF'\" onclick=\"window.commands?.execute('create-mitosheet-from-dataframe-output');\">See Full Dataframe in Mito</div> <script> if (window.commands?.hasCommand('create-mitosheet-from-dataframe-output')) document.getElementById('3e789582-4e41-49b7-8266-0e1a63f1c0a3').style.display = 'flex' </script> <table border=\"1\" class=\"dataframe\">\n",
       "  <thead>\n",
       "    <tr style=\"text-align: right;\">\n",
       "      <th></th>\n",
       "      <th>make</th>\n",
       "      <th>model</th>\n",
       "      <th>year</th>\n",
       "      <th>mileage</th>\n",
       "      <th>price</th>\n",
       "      <th>color</th>\n",
       "      <th>state</th>\n",
       "      <th>date</th>\n",
       "      <th>day</th>\n",
       "      <th>month</th>\n",
       "    </tr>\n",
       "  </thead>\n",
       "  <tbody>\n",
       "    <tr>\n",
       "      <th>0</th>\n",
       "      <td>Chevrolet</td>\n",
       "      <td>Cruze</td>\n",
       "      <td>2023</td>\n",
       "      <td>99157</td>\n",
       "      <td>37488</td>\n",
       "      <td>white</td>\n",
       "      <td>TX</td>\n",
       "      <td>2023-09-26</td>\n",
       "      <td>26</td>\n",
       "      <td>9</td>\n",
       "    </tr>\n",
       "    <tr>\n",
       "      <th>1</th>\n",
       "      <td>Toyota</td>\n",
       "      <td>Cruze</td>\n",
       "      <td>2023</td>\n",
       "      <td>19882</td>\n",
       "      <td>34176</td>\n",
       "      <td>red</td>\n",
       "      <td>IL</td>\n",
       "      <td>2023-08-08</td>\n",
       "      <td>8</td>\n",
       "      <td>8</td>\n",
       "    </tr>\n",
       "    <tr>\n",
       "      <th>2</th>\n",
       "      <td>Chevrolet</td>\n",
       "      <td>Altima</td>\n",
       "      <td>2023</td>\n",
       "      <td>77718</td>\n",
       "      <td>40297</td>\n",
       "      <td>blue</td>\n",
       "      <td>CA</td>\n",
       "      <td>2023-02-25</td>\n",
       "      <td>25</td>\n",
       "      <td>2</td>\n",
       "    </tr>\n",
       "    <tr>\n",
       "      <th>3</th>\n",
       "      <td>Nissan</td>\n",
       "      <td>Fusion</td>\n",
       "      <td>2023</td>\n",
       "      <td>83613</td>\n",
       "      <td>43492</td>\n",
       "      <td>silver</td>\n",
       "      <td>TX</td>\n",
       "      <td>2023-04-25</td>\n",
       "      <td>25</td>\n",
       "      <td>4</td>\n",
       "    </tr>\n",
       "    <tr>\n",
       "      <th>4</th>\n",
       "      <td>Ford</td>\n",
       "      <td>Cruze</td>\n",
       "      <td>2023</td>\n",
       "      <td>95349</td>\n",
       "      <td>26655</td>\n",
       "      <td>red</td>\n",
       "      <td>NY</td>\n",
       "      <td>2023-12-14</td>\n",
       "      <td>14</td>\n",
       "      <td>12</td>\n",
       "    </tr>\n",
       "  </tbody>\n",
       "</table></div>"
      ],
      "text/plain": [
       "        make   model  year  mileage  price   color state       date  day  \\\n",
       "0  Chevrolet   Cruze  2023    99157  37488   white    TX 2023-09-26   26   \n",
       "1     Toyota   Cruze  2023    19882  34176     red    IL 2023-08-08    8   \n",
       "2  Chevrolet  Altima  2023    77718  40297    blue    CA 2023-02-25   25   \n",
       "3     Nissan  Fusion  2023    83613  43492  silver    TX 2023-04-25   25   \n",
       "4       Ford   Cruze  2023    95349  26655     red    NY 2023-12-14   14   \n",
       "\n",
       "   month  \n",
       "0      9  \n",
       "1      8  \n",
       "2      2  \n",
       "3      4  \n",
       "4     12  "
      ]
     },
     "execution_count": 1009,
     "metadata": {},
     "output_type": "execute_result"
    }
   ],
   "source": [
    "data.head()"
   ]
  },
  {
   "cell_type": "code",
   "execution_count": 1010,
   "metadata": {},
   "outputs": [
    {
     "data": {
      "text/plain": [
       "Cruze     2150\n",
       "Accord    2100\n",
       "Fusion    1950\n",
       "Altima    1900\n",
       "Camry     1900\n",
       "Name: model, dtype: int64"
      ]
     },
     "execution_count": 1010,
     "metadata": {},
     "output_type": "execute_result"
    }
   ],
   "source": [
    "data[\"model\"].value_counts()"
   ]
  },
  {
   "cell_type": "code",
   "execution_count": 1011,
   "metadata": {},
   "outputs": [],
   "source": [
    "model_cnt = data[\"model\"].value_counts()"
   ]
  },
  {
   "cell_type": "code",
   "execution_count": 1012,
   "metadata": {},
   "outputs": [
    {
     "data": {
      "image/png": "[encoded data removed]",
      "text/plain": [
       "<Figure size 1080x360 with 1 Axes>"
      ]
     },
     "metadata": {
      "needs_background": "light"
     },
     "output_type": "display_data"
    }
   ],
   "source": [
    "sns.color_palette(\"inferno\")\n",
    "model_cnt1 = model_cnt.plot(kind = \"bar\", x = \"model\", figsize=(15, 5), color = color)\n",
    "plt.xlabel(\"model\")\n",
    "plt.ylabel(\"model_count\")\n",
    "\n",
    "for i in model_cnt1.patches:\n",
    "    model_cnt1.annotate(f'\\n{i.get_height()}', (i.get_x()+0.2, i.get_height()), ha = \"center\", va = \"top\", size = 15, color = \"white\")"
   ]
  },
  {
   "cell_type": "code",
   "execution_count": 1013,
   "metadata": {},
   "outputs": [
    {
     "data": {
      "text/html": [
       "<div><div id=14c51797-67b8-4a7c-bdef-4a1f9cad6dca style=\"display:none; background-color:#9D6CFF; color:white; width:200px; height:30px; padding-left:5px; border-radius:4px; flex-direction:row; justify-content:space-around; align-items:center;\" onmouseover=\"this.style.backgroundColor='#BA9BF8'\" onmouseout=\"this.style.backgroundColor='#9D6CFF'\" onclick=\"window.commands?.execute('create-mitosheet-from-dataframe-output');\">See Full Dataframe in Mito</div> <script> if (window.commands?.hasCommand('create-mitosheet-from-dataframe-output')) document.getElementById('14c51797-67b8-4a7c-bdef-4a1f9cad6dca').style.display = 'flex' </script> <table border=\"1\" class=\"dataframe\">\n",
       "  <thead>\n",
       "    <tr style=\"text-align: right;\">\n",
       "      <th></th>\n",
       "      <th>make</th>\n",
       "      <th>model</th>\n",
       "      <th>year</th>\n",
       "      <th>mileage</th>\n",
       "      <th>price</th>\n",
       "      <th>color</th>\n",
       "      <th>state</th>\n",
       "      <th>date</th>\n",
       "      <th>day</th>\n",
       "      <th>month</th>\n",
       "    </tr>\n",
       "  </thead>\n",
       "  <tbody>\n",
       "    <tr>\n",
       "      <th>0</th>\n",
       "      <td>Chevrolet</td>\n",
       "      <td>Cruze</td>\n",
       "      <td>2023</td>\n",
       "      <td>99157</td>\n",
       "      <td>37488</td>\n",
       "      <td>white</td>\n",
       "      <td>TX</td>\n",
       "      <td>2023-09-26</td>\n",
       "      <td>26</td>\n",
       "      <td>9</td>\n",
       "    </tr>\n",
       "    <tr>\n",
       "      <th>1</th>\n",
       "      <td>Toyota</td>\n",
       "      <td>Cruze</td>\n",
       "      <td>2023</td>\n",
       "      <td>19882</td>\n",
       "      <td>34176</td>\n",
       "      <td>red</td>\n",
       "      <td>IL</td>\n",
       "      <td>2023-08-08</td>\n",
       "      <td>8</td>\n",
       "      <td>8</td>\n",
       "    </tr>\n",
       "    <tr>\n",
       "      <th>2</th>\n",
       "      <td>Chevrolet</td>\n",
       "      <td>Altima</td>\n",
       "      <td>2023</td>\n",
       "      <td>77718</td>\n",
       "      <td>40297</td>\n",
       "      <td>blue</td>\n",
       "      <td>CA</td>\n",
       "      <td>2023-02-25</td>\n",
       "      <td>25</td>\n",
       "      <td>2</td>\n",
       "    </tr>\n",
       "    <tr>\n",
       "      <th>3</th>\n",
       "      <td>Nissan</td>\n",
       "      <td>Fusion</td>\n",
       "      <td>2023</td>\n",
       "      <td>83613</td>\n",
       "      <td>43492</td>\n",
       "      <td>silver</td>\n",
       "      <td>TX</td>\n",
       "      <td>2023-04-25</td>\n",
       "      <td>25</td>\n",
       "      <td>4</td>\n",
       "    </tr>\n",
       "    <tr>\n",
       "      <th>4</th>\n",
       "      <td>Ford</td>\n",
       "      <td>Cruze</td>\n",
       "      <td>2023</td>\n",
       "      <td>95349</td>\n",
       "      <td>26655</td>\n",
       "      <td>red</td>\n",
       "      <td>NY</td>\n",
       "      <td>2023-12-14</td>\n",
       "      <td>14</td>\n",
       "      <td>12</td>\n",
       "    </tr>\n",
       "  </tbody>\n",
       "</table></div>"
      ],
      "text/plain": [
       "        make   model  year  mileage  price   color state       date  day  \\\n",
       "0  Chevrolet   Cruze  2023    99157  37488   white    TX 2023-09-26   26   \n",
       "1     Toyota   Cruze  2023    19882  34176     red    IL 2023-08-08    8   \n",
       "2  Chevrolet  Altima  2023    77718  40297    blue    CA 2023-02-25   25   \n",
       "3     Nissan  Fusion  2023    83613  43492  silver    TX 2023-04-25   25   \n",
       "4       Ford   Cruze  2023    95349  26655     red    NY 2023-12-14   14   \n",
       "\n",
       "   month  \n",
       "0      9  \n",
       "1      8  \n",
       "2      2  \n",
       "3      4  \n",
       "4     12  "
      ]
     },
     "execution_count": 1013,
     "metadata": {},
     "output_type": "execute_result"
    }
   ],
   "source": [
    "data.head()"
   ]
  },
  {
   "cell_type": "code",
   "execution_count": 1014,
   "metadata": {},
   "outputs": [],
   "source": [
    "x = data.drop(columns = [\"price\", \"date\"])"
   ]
  },
  {
   "cell_type": "code",
   "execution_count": 1015,
   "metadata": {},
   "outputs": [],
   "source": [
    "y = data[\"price\"]"
   ]
  },
  {
   "cell_type": "code",
   "execution_count": 1016,
   "metadata": {},
   "outputs": [
    {
     "data": {
      "text/html": [
       "<div><div id=2a306b53-1a26-4557-bafc-e70ca9efca00 style=\"display:none; background-color:#9D6CFF; color:white; width:200px; height:30px; padding-left:5px; border-radius:4px; flex-direction:row; justify-content:space-around; align-items:center;\" onmouseover=\"this.style.backgroundColor='#BA9BF8'\" onmouseout=\"this.style.backgroundColor='#9D6CFF'\" onclick=\"window.commands?.execute('create-mitosheet-from-dataframe-output');\">See Full Dataframe in Mito</div> <script> if (window.commands?.hasCommand('create-mitosheet-from-dataframe-output')) document.getElementById('2a306b53-1a26-4557-bafc-e70ca9efca00').style.display = 'flex' </script> <table border=\"1\" class=\"dataframe\">\n",
       "  <thead>\n",
       "    <tr style=\"text-align: right;\">\n",
       "      <th></th>\n",
       "      <th>make</th>\n",
       "      <th>model</th>\n",
       "      <th>year</th>\n",
       "      <th>mileage</th>\n",
       "      <th>color</th>\n",
       "      <th>state</th>\n",
       "      <th>day</th>\n",
       "      <th>month</th>\n",
       "    </tr>\n",
       "  </thead>\n",
       "  <tbody>\n",
       "    <tr>\n",
       "      <th>0</th>\n",
       "      <td>Chevrolet</td>\n",
       "      <td>Cruze</td>\n",
       "      <td>2023</td>\n",
       "      <td>99157</td>\n",
       "      <td>white</td>\n",
       "      <td>TX</td>\n",
       "      <td>26</td>\n",
       "      <td>9</td>\n",
       "    </tr>\n",
       "  </tbody>\n",
       "</table></div>"
      ],
      "text/plain": [
       "        make  model  year  mileage  color state  day  month\n",
       "0  Chevrolet  Cruze  2023    99157  white    TX   26      9"
      ]
     },
     "execution_count": 1016,
     "metadata": {},
     "output_type": "execute_result"
    }
   ],
   "source": [
    "x.head(1)"
   ]
  },
  {
   "cell_type": "code",
   "execution_count": 1017,
   "metadata": {},
   "outputs": [
    {
     "data": {
      "text/plain": [
       "0    37488\n",
       "Name: price, dtype: int64"
      ]
     },
     "execution_count": 1017,
     "metadata": {},
     "output_type": "execute_result"
    }
   ],
   "source": [
    "y.head(1)"
   ]
  },
  {
   "cell_type": "code",
   "execution_count": 1018,
   "metadata": {},
   "outputs": [],
   "source": [
    "from sklearn.preprocessing import LabelEncoder"
   ]
  },
  {
   "cell_type": "code",
   "execution_count": 1019,
   "metadata": {},
   "outputs": [],
   "source": [
    "enc = LabelEncoder()\n",
    "\n",
    "x[\"make\"] = enc.fit_transform(x[\"make\"])\n",
    "x[\"model\"] = enc.fit_transform(x[\"model\"])\n",
    "x[\"color\"] = enc.fit_transform(x[\"color\"])\n",
    "x[\"state\"] = enc.fit_transform(x[\"state\"])"
   ]
  },
  {
   "cell_type": "code",
   "execution_count": 1020,
   "metadata": {},
   "outputs": [
    {
     "data": {
      "text/html": [
       "<div><div id=55e73bf2-5c22-4085-ae10-8a7648587257 style=\"display:none; background-color:#9D6CFF; color:white; width:200px; height:30px; padding-left:5px; border-radius:4px; flex-direction:row; justify-content:space-around; align-items:center;\" onmouseover=\"this.style.backgroundColor='#BA9BF8'\" onmouseout=\"this.style.backgroundColor='#9D6CFF'\" onclick=\"window.commands?.execute('create-mitosheet-from-dataframe-output');\">See Full Dataframe in Mito</div> <script> if (window.commands?.hasCommand('create-mitosheet-from-dataframe-output')) document.getElementById('55e73bf2-5c22-4085-ae10-8a7648587257').style.display = 'flex' </script> <table border=\"1\" class=\"dataframe\">\n",
       "  <thead>\n",
       "    <tr style=\"text-align: right;\">\n",
       "      <th></th>\n",
       "      <th>make</th>\n",
       "      <th>model</th>\n",
       "      <th>year</th>\n",
       "      <th>mileage</th>\n",
       "      <th>color</th>\n",
       "      <th>state</th>\n",
       "      <th>day</th>\n",
       "      <th>month</th>\n",
       "    </tr>\n",
       "  </thead>\n",
       "  <tbody>\n",
       "    <tr>\n",
       "      <th>0</th>\n",
       "      <td>0</td>\n",
       "      <td>3</td>\n",
       "      <td>2023</td>\n",
       "      <td>99157</td>\n",
       "      <td>4</td>\n",
       "      <td>4</td>\n",
       "      <td>26</td>\n",
       "      <td>9</td>\n",
       "    </tr>\n",
       "    <tr>\n",
       "      <th>1</th>\n",
       "      <td>4</td>\n",
       "      <td>3</td>\n",
       "      <td>2023</td>\n",
       "      <td>19882</td>\n",
       "      <td>2</td>\n",
       "      <td>2</td>\n",
       "      <td>8</td>\n",
       "      <td>8</td>\n",
       "    </tr>\n",
       "    <tr>\n",
       "      <th>2</th>\n",
       "      <td>0</td>\n",
       "      <td>1</td>\n",
       "      <td>2023</td>\n",
       "      <td>77718</td>\n",
       "      <td>1</td>\n",
       "      <td>0</td>\n",
       "      <td>25</td>\n",
       "      <td>2</td>\n",
       "    </tr>\n",
       "    <tr>\n",
       "      <th>3</th>\n",
       "      <td>3</td>\n",
       "      <td>4</td>\n",
       "      <td>2023</td>\n",
       "      <td>83613</td>\n",
       "      <td>3</td>\n",
       "      <td>4</td>\n",
       "      <td>25</td>\n",
       "      <td>4</td>\n",
       "    </tr>\n",
       "    <tr>\n",
       "      <th>4</th>\n",
       "      <td>1</td>\n",
       "      <td>3</td>\n",
       "      <td>2023</td>\n",
       "      <td>95349</td>\n",
       "      <td>2</td>\n",
       "      <td>3</td>\n",
       "      <td>14</td>\n",
       "      <td>12</td>\n",
       "    </tr>\n",
       "  </tbody>\n",
       "</table></div>"
      ],
      "text/plain": [
       "   make  model  year  mileage  color  state  day  month\n",
       "0     0      3  2023    99157      4      4   26      9\n",
       "1     4      3  2023    19882      2      2    8      8\n",
       "2     0      1  2023    77718      1      0   25      2\n",
       "3     3      4  2023    83613      3      4   25      4\n",
       "4     1      3  2023    95349      2      3   14     12"
      ]
     },
     "execution_count": 1020,
     "metadata": {},
     "output_type": "execute_result"
    }
   ],
   "source": [
    "x.head()"
   ]
  },
  {
   "cell_type": "code",
   "execution_count": 1021,
   "metadata": {},
   "outputs": [],
   "source": [
    "xtrain, xtest, ytrain, ytest = train_test_split(x, y, test_size=0.2, random_state=42, shuffle=True)"
   ]
  },
  {
   "cell_type": "code",
   "execution_count": 1022,
   "metadata": {},
   "outputs": [],
   "source": [
    "from sklearn.linear_model import Ridge"
   ]
  },
  {
   "cell_type": "code",
   "execution_count": 1023,
   "metadata": {},
   "outputs": [],
   "source": [
    "rid = Ridge(alpha=0.6)"
   ]
  },
  {
   "cell_type": "code",
   "execution_count": 1024,
   "metadata": {},
   "outputs": [
    {
     "data": {
      "text/plain": [
       "Ridge(alpha=0.6)"
      ]
     },
     "execution_count": 1024,
     "metadata": {},
     "output_type": "execute_result"
    }
   ],
   "source": [
    "rid.fit(xtrain, ytrain)"
   ]
  },
  {
   "cell_type": "code",
   "execution_count": 1025,
   "metadata": {},
   "outputs": [],
   "source": [
    "model = rid.predict(xtest).round()"
   ]
  },
  {
   "cell_type": "code",
   "execution_count": 1026,
   "metadata": {},
   "outputs": [
    {
     "data": {
      "text/plain": [
       "(2000,)"
      ]
     },
     "execution_count": 1026,
     "metadata": {},
     "output_type": "execute_result"
    }
   ],
   "source": [
    "model.shape"
   ]
  },
  {
   "cell_type": "code",
   "execution_count": 1027,
   "metadata": {},
   "outputs": [],
   "source": [
    "compare_model = pd.DataFrame({\"actual_value\" : ytest, \"Predicted_value\" : model})\n"
   ]
  },
  {
   "cell_type": "code",
   "execution_count": 1029,
   "metadata": {},
   "outputs": [
    {
     "data": {
      "text/html": [
       "<div><div id=ce26bc1e-694e-438c-8dea-5d7b41418860 style=\"display:none; background-color:#9D6CFF; color:white; width:200px; height:30px; padding-left:5px; border-radius:4px; flex-direction:row; justify-content:space-around; align-items:center;\" onmouseover=\"this.style.backgroundColor='#BA9BF8'\" onmouseout=\"this.style.backgroundColor='#9D6CFF'\" onclick=\"window.commands?.execute('create-mitosheet-from-dataframe-output');\">See Full Dataframe in Mito</div> <script> if (window.commands?.hasCommand('create-mitosheet-from-dataframe-output')) document.getElementById('ce26bc1e-694e-438c-8dea-5d7b41418860').style.display = 'flex' </script> <table border=\"1\" class=\"dataframe\">\n",
       "  <thead>\n",
       "    <tr style=\"text-align: right;\">\n",
       "      <th></th>\n",
       "      <th>actual_value</th>\n",
       "      <th>Predicted_value</th>\n",
       "    </tr>\n",
       "  </thead>\n",
       "  <tbody>\n",
       "    <tr>\n",
       "      <th>6252</th>\n",
       "      <td>15820</td>\n",
       "      <td>28097.0</td>\n",
       "    </tr>\n",
       "    <tr>\n",
       "      <th>4684</th>\n",
       "      <td>10539</td>\n",
       "      <td>29469.0</td>\n",
       "    </tr>\n",
       "    <tr>\n",
       "      <th>1731</th>\n",
       "      <td>10247</td>\n",
       "      <td>27275.0</td>\n",
       "    </tr>\n",
       "    <tr>\n",
       "      <th>4742</th>\n",
       "      <td>25712</td>\n",
       "      <td>27812.0</td>\n",
       "    </tr>\n",
       "    <tr>\n",
       "      <th>4521</th>\n",
       "      <td>22564</td>\n",
       "      <td>29172.0</td>\n",
       "    </tr>\n",
       "    <tr>\n",
       "      <th>...</th>\n",
       "      <td>...</td>\n",
       "      <td>...</td>\n",
       "    </tr>\n",
       "    <tr>\n",
       "      <th>6412</th>\n",
       "      <td>17576</td>\n",
       "      <td>29621.0</td>\n",
       "    </tr>\n",
       "    <tr>\n",
       "      <th>8285</th>\n",
       "      <td>45530</td>\n",
       "      <td>30019.0</td>\n",
       "    </tr>\n",
       "    <tr>\n",
       "      <th>7853</th>\n",
       "      <td>49199</td>\n",
       "      <td>27304.0</td>\n",
       "    </tr>\n",
       "    <tr>\n",
       "      <th>1095</th>\n",
       "      <td>40216</td>\n",
       "      <td>30095.0</td>\n",
       "    </tr>\n",
       "    <tr>\n",
       "      <th>6929</th>\n",
       "      <td>32515</td>\n",
       "      <td>30390.0</td>\n",
       "    </tr>\n",
       "  </tbody>\n",
       "</table></div>"
      ],
      "text/plain": [
       "      actual_value  Predicted_value\n",
       "6252         15820          28097.0\n",
       "4684         10539          29469.0\n",
       "1731         10247          27275.0\n",
       "4742         25712          27812.0\n",
       "4521         22564          29172.0\n",
       "...            ...              ...\n",
       "6412         17576          29621.0\n",
       "8285         45530          30019.0\n",
       "7853         49199          27304.0\n",
       "1095         40216          30095.0\n",
       "6929         32515          30390.0\n",
       "\n",
       "[2000 rows x 2 columns]"
      ]
     },
     "execution_count": 1029,
     "metadata": {},
     "output_type": "execute_result"
    }
   ],
   "source": [
    "compare_model.round()"
   ]
  }
 ],
 "metadata": {
  "kernelspec": {
   "display_name": "Python 3",
   "language": "python",
   "name": "python3"
  },
  "language_info": {
   "codemirror_mode": {
    "name": "ipython",
    "version": 3
   },
   "file_extension": ".py",
   "mimetype": "text/x-python",
   "name": "python",
   "nbconvert_exporter": "python",
   "pygments_lexer": "ipython3",
   "version": "3.6.3"
  },
  "orig_nbformat": 4
 },
 "nbformat": 4,
 "nbformat_minor": 2
}
